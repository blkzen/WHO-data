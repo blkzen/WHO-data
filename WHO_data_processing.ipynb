{
  "nbformat": 4,
  "nbformat_minor": 0,
  "metadata": {
    "colab": {
      "name": "WHO data processing.ipynb",
      "provenance": [],
      "collapsed_sections": [],
      "mount_file_id": "1LS8YPVm1JwiSVO0lk3A3DnYI31xouCVY",
      "authorship_tag": "ABX9TyO/lJvzYTsppNEQCEy+T2+T"
    },
    "kernelspec": {
      "name": "python3",
      "display_name": "Python 3"
    }
  },
  "cells": [
    {
      "cell_type": "code",
      "metadata": {
        "colab": {
          "base_uri": "https://localhost:8080/"
        },
        "id": "AuCltCF1E6v-",
        "outputId": "37b5415c-21d8-44bb-a526-09e08a5682b2"
      },
      "source": [
        "from google.colab import drive\r\n",
        "import numpy as np\r\n",
        "import pandas as pd\r\n",
        "import matplotlib.pyplot as plt\r\n",
        "%matplotlib inline\r\n",
        "import seaborn as sns\r\n",
        "from datetime import datetime\r\n",
        "from dateutil.parser import parse\r\n",
        "import glob\r\n",
        "import cv2\r\n",
        "from matplotlib import pyplot\r\n",
        "import matplotlib.pyplot as plt\r\n",
        "drive.mount('/content/drive/')"
      ],
      "execution_count": 1,
      "outputs": [
        {
          "output_type": "stream",
          "text": [
            "/usr/local/lib/python3.6/dist-packages/statsmodels/tools/_testing.py:19: FutureWarning: pandas.util.testing is deprecated. Use the functions in the public API at pandas.testing instead.\n",
            "  import pandas.util.testing as tm\n"
          ],
          "name": "stderr"
        },
        {
          "output_type": "stream",
          "text": [
            "Drive already mounted at /content/drive/; to attempt to forcibly remount, call drive.mount(\"/content/drive/\", force_remount=True).\n"
          ],
          "name": "stdout"
        }
      ]
    },
    {
      "cell_type": "code",
      "metadata": {
        "id": "GO4OgQJiH26n"
      },
      "source": [
        "path = '/content/drive/MyDrive/Colab Notebooks/WHO/WHO'\r\n",
        "filenames = glob.glob(\"/content/drive/MyDrive/Colab Notebooks/WHO/WHO/*.csv\")\r\n",
        "\r\n",
        "dfs = []\r\n",
        "for filename in filenames:\r\n",
        "    dfs.append(pd.read_csv(filename))\r\n",
        "dfs\r\n",
        "# Concatenate into one DataFrame\r\n",
        "#big_frame = pd.concat(dfs, ignore_index=True)"
      ],
      "execution_count": null,
      "outputs": []
    },
    {
      "cell_type": "code",
      "metadata": {
        "colab": {
          "base_uri": "https://localhost:8080/",
          "height": 505
        },
        "id": "0JX_V1fDJ6uq",
        "outputId": "ddfcdca9-9a6f-4589-ac2d-82d90916efd3"
      },
      "source": [
        "# Concatenate into one DataFrame\r\n",
        "big_frame = pd.concat(dfs, ignore_index=True)\r\n",
        "big_frame"
      ],
      "execution_count": 3,
      "outputs": [
        {
          "output_type": "execute_result",
          "data": {
            "text/html": [
              "<div>\n",
              "<style scoped>\n",
              "    .dataframe tbody tr th:only-of-type {\n",
              "        vertical-align: middle;\n",
              "    }\n",
              "\n",
              "    .dataframe tbody tr th {\n",
              "        vertical-align: top;\n",
              "    }\n",
              "\n",
              "    .dataframe thead th {\n",
              "        text-align: right;\n",
              "    }\n",
              "</style>\n",
              "<table border=\"1\" class=\"dataframe\">\n",
              "  <thead>\n",
              "    <tr style=\"text-align: right;\">\n",
              "      <th></th>\n",
              "      <th>Location</th>\n",
              "      <th>Indicator</th>\n",
              "      <th>Period</th>\n",
              "      <th>First Tooltip</th>\n",
              "      <th>Dim2</th>\n",
              "      <th>Dim1</th>\n",
              "      <th>Hale Expectency</th>\n",
              "      <th>Life expectany</th>\n",
              "      <th>Unnamed: 6</th>\n",
              "      <th>% OF HALE in life expectancy</th>\n",
              "    </tr>\n",
              "  </thead>\n",
              "  <tbody>\n",
              "    <tr>\n",
              "      <th>0</th>\n",
              "      <td>Afghanistan</td>\n",
              "      <td>Hepatitis B surface antigen (HBsAg) prevalence...</td>\n",
              "      <td>2015</td>\n",
              "      <td>0.5 [0.29-0.78]</td>\n",
              "      <td>NaN</td>\n",
              "      <td>NaN</td>\n",
              "      <td>NaN</td>\n",
              "      <td>NaN</td>\n",
              "      <td>NaN</td>\n",
              "      <td>NaN</td>\n",
              "    </tr>\n",
              "    <tr>\n",
              "      <th>1</th>\n",
              "      <td>Albania</td>\n",
              "      <td>Hepatitis B surface antigen (HBsAg) prevalence...</td>\n",
              "      <td>2015</td>\n",
              "      <td>1.29 [0.83-1.91]</td>\n",
              "      <td>NaN</td>\n",
              "      <td>NaN</td>\n",
              "      <td>NaN</td>\n",
              "      <td>NaN</td>\n",
              "      <td>NaN</td>\n",
              "      <td>NaN</td>\n",
              "    </tr>\n",
              "    <tr>\n",
              "      <th>2</th>\n",
              "      <td>Algeria</td>\n",
              "      <td>Hepatitis B surface antigen (HBsAg) prevalence...</td>\n",
              "      <td>2015</td>\n",
              "      <td>0.22 [0.12-0.34]</td>\n",
              "      <td>NaN</td>\n",
              "      <td>NaN</td>\n",
              "      <td>NaN</td>\n",
              "      <td>NaN</td>\n",
              "      <td>NaN</td>\n",
              "      <td>NaN</td>\n",
              "    </tr>\n",
              "    <tr>\n",
              "      <th>3</th>\n",
              "      <td>Andorra</td>\n",
              "      <td>Hepatitis B surface antigen (HBsAg) prevalence...</td>\n",
              "      <td>2015</td>\n",
              "      <td>0.08 [0-1.65]</td>\n",
              "      <td>NaN</td>\n",
              "      <td>NaN</td>\n",
              "      <td>NaN</td>\n",
              "      <td>NaN</td>\n",
              "      <td>NaN</td>\n",
              "      <td>NaN</td>\n",
              "    </tr>\n",
              "    <tr>\n",
              "      <th>4</th>\n",
              "      <td>Angola</td>\n",
              "      <td>Hepatitis B surface antigen (HBsAg) prevalence...</td>\n",
              "      <td>2015</td>\n",
              "      <td>4.85 [3.29-6.81]</td>\n",
              "      <td>NaN</td>\n",
              "      <td>NaN</td>\n",
              "      <td>NaN</td>\n",
              "      <td>NaN</td>\n",
              "      <td>NaN</td>\n",
              "      <td>NaN</td>\n",
              "    </tr>\n",
              "    <tr>\n",
              "      <th>...</th>\n",
              "      <td>...</td>\n",
              "      <td>...</td>\n",
              "      <td>...</td>\n",
              "      <td>...</td>\n",
              "      <td>...</td>\n",
              "      <td>...</td>\n",
              "      <td>...</td>\n",
              "      <td>...</td>\n",
              "      <td>...</td>\n",
              "      <td>...</td>\n",
              "    </tr>\n",
              "    <tr>\n",
              "      <th>150560</th>\n",
              "      <td>Zimbabwe</td>\n",
              "      <td>Proportion of population with primary reliance...</td>\n",
              "      <td>2004</td>\n",
              "      <td>33</td>\n",
              "      <td>NaN</td>\n",
              "      <td>NaN</td>\n",
              "      <td>NaN</td>\n",
              "      <td>NaN</td>\n",
              "      <td>NaN</td>\n",
              "      <td>NaN</td>\n",
              "    </tr>\n",
              "    <tr>\n",
              "      <th>150561</th>\n",
              "      <td>Zimbabwe</td>\n",
              "      <td>Proportion of population with primary reliance...</td>\n",
              "      <td>2003</td>\n",
              "      <td>33</td>\n",
              "      <td>NaN</td>\n",
              "      <td>NaN</td>\n",
              "      <td>NaN</td>\n",
              "      <td>NaN</td>\n",
              "      <td>NaN</td>\n",
              "      <td>NaN</td>\n",
              "    </tr>\n",
              "    <tr>\n",
              "      <th>150562</th>\n",
              "      <td>Zimbabwe</td>\n",
              "      <td>Proportion of population with primary reliance...</td>\n",
              "      <td>2002</td>\n",
              "      <td>34</td>\n",
              "      <td>NaN</td>\n",
              "      <td>NaN</td>\n",
              "      <td>NaN</td>\n",
              "      <td>NaN</td>\n",
              "      <td>NaN</td>\n",
              "      <td>NaN</td>\n",
              "    </tr>\n",
              "    <tr>\n",
              "      <th>150563</th>\n",
              "      <td>Zimbabwe</td>\n",
              "      <td>Proportion of population with primary reliance...</td>\n",
              "      <td>2001</td>\n",
              "      <td>34</td>\n",
              "      <td>NaN</td>\n",
              "      <td>NaN</td>\n",
              "      <td>NaN</td>\n",
              "      <td>NaN</td>\n",
              "      <td>NaN</td>\n",
              "      <td>NaN</td>\n",
              "    </tr>\n",
              "    <tr>\n",
              "      <th>150564</th>\n",
              "      <td>Zimbabwe</td>\n",
              "      <td>Proportion of population with primary reliance...</td>\n",
              "      <td>2000</td>\n",
              "      <td>34</td>\n",
              "      <td>NaN</td>\n",
              "      <td>NaN</td>\n",
              "      <td>NaN</td>\n",
              "      <td>NaN</td>\n",
              "      <td>NaN</td>\n",
              "      <td>NaN</td>\n",
              "    </tr>\n",
              "  </tbody>\n",
              "</table>\n",
              "<p>150565 rows × 10 columns</p>\n",
              "</div>"
            ],
            "text/plain": [
              "           Location  ... % OF HALE in life expectancy\n",
              "0       Afghanistan  ...                          NaN\n",
              "1           Albania  ...                          NaN\n",
              "2           Algeria  ...                          NaN\n",
              "3           Andorra  ...                          NaN\n",
              "4            Angola  ...                          NaN\n",
              "...             ...  ...                          ...\n",
              "150560     Zimbabwe  ...                          NaN\n",
              "150561     Zimbabwe  ...                          NaN\n",
              "150562     Zimbabwe  ...                          NaN\n",
              "150563     Zimbabwe  ...                          NaN\n",
              "150564     Zimbabwe  ...                          NaN\n",
              "\n",
              "[150565 rows x 10 columns]"
            ]
          },
          "metadata": {
            "tags": []
          },
          "execution_count": 3
        }
      ]
    },
    {
      "cell_type": "code",
      "metadata": {
        "colab": {
          "base_uri": "https://localhost:8080/",
          "height": 707
        },
        "id": "uN3t_B2NKOeS",
        "outputId": "dcc53f01-0cbf-48cf-f600-87523f61dbb5"
      },
      "source": [
        "#Null value analysis of the combined datasets \r\n",
        "big_frame.info()\r\n",
        "sns.heatmap(big_frame.isna())"
      ],
      "execution_count": 4,
      "outputs": [
        {
          "output_type": "stream",
          "text": [
            "<class 'pandas.core.frame.DataFrame'>\n",
            "RangeIndex: 150565 entries, 0 to 150564\n",
            "Data columns (total 10 columns):\n",
            " #   Column                        Non-Null Count   Dtype  \n",
            "---  ------                        --------------   -----  \n",
            " 0   Location                      150565 non-null  object \n",
            " 1   Indicator                     150565 non-null  object \n",
            " 2   Period                        150565 non-null  object \n",
            " 3   First Tooltip                 150421 non-null  object \n",
            " 4   Dim2                          7146 non-null    object \n",
            " 5   Dim1                          118567 non-null  object \n",
            " 6   Hale Expectency               144 non-null     float64\n",
            " 7   Life expectany                144 non-null     float64\n",
            " 8   Unnamed: 6                    144 non-null     float64\n",
            " 9   % OF HALE in life expectancy  144 non-null     float64\n",
            "dtypes: float64(4), object(6)\n",
            "memory usage: 11.5+ MB\n"
          ],
          "name": "stdout"
        },
        {
          "output_type": "execute_result",
          "data": {
            "text/plain": [
              "<matplotlib.axes._subplots.AxesSubplot at 0x7f1c473a8d30>"
            ]
          },
          "metadata": {
            "tags": []
          },
          "execution_count": 4
        },
        {
          "output_type": "display_data",
          "data": {
            "image/png": "[encoded data removed]",
            "text/plain": [
              "<Figure size 432x288 with 2 Axes>"
            ]
          },
          "metadata": {
            "tags": [],
            "needs_background": "light"
          }
        }
      ]
    },
    {
      "cell_type": "markdown",
      "metadata": {
        "id": "3klfaflElG9S"
      },
      "source": [
        "There are many inconsistent columns of data that must be purged for the sake of accurate data analysis."
      ]
    },
    {
      "cell_type": "code",
      "metadata": {
        "id": "w0hvCN860tzI",
        "colab": {
          "base_uri": "https://localhost:8080/",
          "height": 404
        },
        "outputId": "be749dd8-875c-4d7c-b36c-98e60ac7a7d1"
      },
      "source": [
        "big_frame = big_frame.dropna(axis=1)\r\n",
        "big_frame"
      ],
      "execution_count": 5,
      "outputs": [
        {
          "output_type": "execute_result",
          "data": {
            "text/html": [
              "<div>\n",
              "<style scoped>\n",
              "    .dataframe tbody tr th:only-of-type {\n",
              "        vertical-align: middle;\n",
              "    }\n",
              "\n",
              "    .dataframe tbody tr th {\n",
              "        vertical-align: top;\n",
              "    }\n",
              "\n",
              "    .dataframe thead th {\n",
              "        text-align: right;\n",
              "    }\n",
              "</style>\n",
              "<table border=\"1\" class=\"dataframe\">\n",
              "  <thead>\n",
              "    <tr style=\"text-align: right;\">\n",
              "      <th></th>\n",
              "      <th>Location</th>\n",
              "      <th>Indicator</th>\n",
              "      <th>Period</th>\n",
              "    </tr>\n",
              "  </thead>\n",
              "  <tbody>\n",
              "    <tr>\n",
              "      <th>0</th>\n",
              "      <td>Afghanistan</td>\n",
              "      <td>Hepatitis B surface antigen (HBsAg) prevalence...</td>\n",
              "      <td>2015</td>\n",
              "    </tr>\n",
              "    <tr>\n",
              "      <th>1</th>\n",
              "      <td>Albania</td>\n",
              "      <td>Hepatitis B surface antigen (HBsAg) prevalence...</td>\n",
              "      <td>2015</td>\n",
              "    </tr>\n",
              "    <tr>\n",
              "      <th>2</th>\n",
              "      <td>Algeria</td>\n",
              "      <td>Hepatitis B surface antigen (HBsAg) prevalence...</td>\n",
              "      <td>2015</td>\n",
              "    </tr>\n",
              "    <tr>\n",
              "      <th>3</th>\n",
              "      <td>Andorra</td>\n",
              "      <td>Hepatitis B surface antigen (HBsAg) prevalence...</td>\n",
              "      <td>2015</td>\n",
              "    </tr>\n",
              "    <tr>\n",
              "      <th>4</th>\n",
              "      <td>Angola</td>\n",
              "      <td>Hepatitis B surface antigen (HBsAg) prevalence...</td>\n",
              "      <td>2015</td>\n",
              "    </tr>\n",
              "    <tr>\n",
              "      <th>...</th>\n",
              "      <td>...</td>\n",
              "      <td>...</td>\n",
              "      <td>...</td>\n",
              "    </tr>\n",
              "    <tr>\n",
              "      <th>150560</th>\n",
              "      <td>Zimbabwe</td>\n",
              "      <td>Proportion of population with primary reliance...</td>\n",
              "      <td>2004</td>\n",
              "    </tr>\n",
              "    <tr>\n",
              "      <th>150561</th>\n",
              "      <td>Zimbabwe</td>\n",
              "      <td>Proportion of population with primary reliance...</td>\n",
              "      <td>2003</td>\n",
              "    </tr>\n",
              "    <tr>\n",
              "      <th>150562</th>\n",
              "      <td>Zimbabwe</td>\n",
              "      <td>Proportion of population with primary reliance...</td>\n",
              "      <td>2002</td>\n",
              "    </tr>\n",
              "    <tr>\n",
              "      <th>150563</th>\n",
              "      <td>Zimbabwe</td>\n",
              "      <td>Proportion of population with primary reliance...</td>\n",
              "      <td>2001</td>\n",
              "    </tr>\n",
              "    <tr>\n",
              "      <th>150564</th>\n",
              "      <td>Zimbabwe</td>\n",
              "      <td>Proportion of population with primary reliance...</td>\n",
              "      <td>2000</td>\n",
              "    </tr>\n",
              "  </tbody>\n",
              "</table>\n",
              "<p>150565 rows × 3 columns</p>\n",
              "</div>"
            ],
            "text/plain": [
              "           Location                                          Indicator Period\n",
              "0       Afghanistan  Hepatitis B surface antigen (HBsAg) prevalence...   2015\n",
              "1           Albania  Hepatitis B surface antigen (HBsAg) prevalence...   2015\n",
              "2           Algeria  Hepatitis B surface antigen (HBsAg) prevalence...   2015\n",
              "3           Andorra  Hepatitis B surface antigen (HBsAg) prevalence...   2015\n",
              "4            Angola  Hepatitis B surface antigen (HBsAg) prevalence...   2015\n",
              "...             ...                                                ...    ...\n",
              "150560     Zimbabwe  Proportion of population with primary reliance...   2004\n",
              "150561     Zimbabwe  Proportion of population with primary reliance...   2003\n",
              "150562     Zimbabwe  Proportion of population with primary reliance...   2002\n",
              "150563     Zimbabwe  Proportion of population with primary reliance...   2001\n",
              "150564     Zimbabwe  Proportion of population with primary reliance...   2000\n",
              "\n",
              "[150565 rows x 3 columns]"
            ]
          },
          "metadata": {
            "tags": []
          },
          "execution_count": 5
        }
      ]
    },
    {
      "cell_type": "code",
      "metadata": {
        "colab": {
          "base_uri": "https://localhost:8080/",
          "height": 31
        },
        "id": "_6zg2q7WRiH6",
        "outputId": "49749976-33f5-4805-b53d-9f1517fd2bb0"
      },
      "source": [
        "big_frame.corr()"
      ],
      "execution_count": 6,
      "outputs": [
        {
          "output_type": "execute_result",
          "data": {
            "text/html": [
              "<div>\n",
              "<style scoped>\n",
              "    .dataframe tbody tr th:only-of-type {\n",
              "        vertical-align: middle;\n",
              "    }\n",
              "\n",
              "    .dataframe tbody tr th {\n",
              "        vertical-align: top;\n",
              "    }\n",
              "\n",
              "    .dataframe thead th {\n",
              "        text-align: right;\n",
              "    }\n",
              "</style>\n",
              "<table border=\"1\" class=\"dataframe\">\n",
              "  <thead>\n",
              "    <tr style=\"text-align: right;\">\n",
              "      <th></th>\n",
              "    </tr>\n",
              "  </thead>\n",
              "  <tbody>\n",
              "  </tbody>\n",
              "</table>\n",
              "</div>"
            ],
            "text/plain": [
              "Empty DataFrame\n",
              "Columns: []\n",
              "Index: []"
            ]
          },
          "metadata": {
            "tags": []
          },
          "execution_count": 6
        }
      ]
    },
    {
      "cell_type": "code",
      "metadata": {
        "id": "Tj00z4e-664C"
      },
      "source": [
        "X1=big_frame.drop(['Period'],axis=1)\r\n",
        "Y1=big_frame['Period']"
      ],
      "execution_count": 7,
      "outputs": []
    },
    {
      "cell_type": "code",
      "metadata": {
        "colab": {
          "base_uri": "https://localhost:8080/",
          "height": 31
        },
        "id": "DeLGX_Jv8SAk",
        "outputId": "92b449cb-a5fe-4649-9ea4-27293de99018"
      },
      "source": [
        "big_frame.corr()>.7"
      ],
      "execution_count": 8,
      "outputs": [
        {
          "output_type": "execute_result",
          "data": {
            "text/html": [
              "<div>\n",
              "<style scoped>\n",
              "    .dataframe tbody tr th:only-of-type {\n",
              "        vertical-align: middle;\n",
              "    }\n",
              "\n",
              "    .dataframe tbody tr th {\n",
              "        vertical-align: top;\n",
              "    }\n",
              "\n",
              "    .dataframe thead th {\n",
              "        text-align: right;\n",
              "    }\n",
              "</style>\n",
              "<table border=\"1\" class=\"dataframe\">\n",
              "  <thead>\n",
              "    <tr style=\"text-align: right;\">\n",
              "      <th></th>\n",
              "    </tr>\n",
              "  </thead>\n",
              "  <tbody>\n",
              "  </tbody>\n",
              "</table>\n",
              "</div>"
            ],
            "text/plain": [
              "Empty DataFrame\n",
              "Columns: []\n",
              "Index: []"
            ]
          },
          "metadata": {
            "tags": []
          },
          "execution_count": 8
        }
      ]
    },
    {
      "cell_type": "markdown",
      "metadata": {
        "id": "ARnpP3yuOwQQ"
      },
      "source": [
        "There are some inconsistencies within the different datasets so I will process specific groups of data in the sake of information acquisition."
      ]
    },
    {
      "cell_type": "code",
      "metadata": {
        "id": "ONOftWwMKPGt"
      },
      "source": [
        "#Suicide Rate\r\n",
        "jisatsu = pd.read_csv('/content/drive/MyDrive/Colab Notebooks/WHO/WHO/crudeSuicideRates.csv')\r\n",
        "\r\n",
        "#Substance Abuse\r\n",
        "subabuse= pd.read_csv('/content/drive/MyDrive/Colab Notebooks/WHO/WHO/alcoholSubstanceAbuse.csv')"
      ],
      "execution_count": 9,
      "outputs": []
    },
    {
      "cell_type": "code",
      "metadata": {
        "id": "pCbIzDpUSuQy",
        "colab": {
          "base_uri": "https://localhost:8080/",
          "height": 107
        },
        "outputId": "7965440e-cdfe-4546-bcaa-cb33d558032c"
      },
      "source": [
        "jisatsu.corr()"
      ],
      "execution_count": 10,
      "outputs": [
        {
          "output_type": "execute_result",
          "data": {
            "text/html": [
              "<div>\n",
              "<style scoped>\n",
              "    .dataframe tbody tr th:only-of-type {\n",
              "        vertical-align: middle;\n",
              "    }\n",
              "\n",
              "    .dataframe tbody tr th {\n",
              "        vertical-align: top;\n",
              "    }\n",
              "\n",
              "    .dataframe thead th {\n",
              "        text-align: right;\n",
              "    }\n",
              "</style>\n",
              "<table border=\"1\" class=\"dataframe\">\n",
              "  <thead>\n",
              "    <tr style=\"text-align: right;\">\n",
              "      <th></th>\n",
              "      <th>Period</th>\n",
              "      <th>First Tooltip</th>\n",
              "    </tr>\n",
              "  </thead>\n",
              "  <tbody>\n",
              "    <tr>\n",
              "      <th>Period</th>\n",
              "      <td>1.000000</td>\n",
              "      <td>-0.281737</td>\n",
              "    </tr>\n",
              "    <tr>\n",
              "      <th>First Tooltip</th>\n",
              "      <td>-0.281737</td>\n",
              "      <td>1.000000</td>\n",
              "    </tr>\n",
              "  </tbody>\n",
              "</table>\n",
              "</div>"
            ],
            "text/plain": [
              "                 Period  First Tooltip\n",
              "Period         1.000000      -0.281737\n",
              "First Tooltip -0.281737       1.000000"
            ]
          },
          "metadata": {
            "tags": []
          },
          "execution_count": 10
        }
      ]
    },
    {
      "cell_type": "code",
      "metadata": {
        "id": "Ibvqkf3dWflq",
        "colab": {
          "base_uri": "https://localhost:8080/",
          "height": 107
        },
        "outputId": "6396b4eb-ef78-4b7c-8943-8634b7f20390"
      },
      "source": [
        "subabuse.corr()"
      ],
      "execution_count": 11,
      "outputs": [
        {
          "output_type": "execute_result",
          "data": {
            "text/html": [
              "<div>\n",
              "<style scoped>\n",
              "    .dataframe tbody tr th:only-of-type {\n",
              "        vertical-align: middle;\n",
              "    }\n",
              "\n",
              "    .dataframe tbody tr th {\n",
              "        vertical-align: top;\n",
              "    }\n",
              "\n",
              "    .dataframe thead th {\n",
              "        text-align: right;\n",
              "    }\n",
              "</style>\n",
              "<table border=\"1\" class=\"dataframe\">\n",
              "  <thead>\n",
              "    <tr style=\"text-align: right;\">\n",
              "      <th></th>\n",
              "      <th>Period</th>\n",
              "      <th>First Tooltip</th>\n",
              "    </tr>\n",
              "  </thead>\n",
              "  <tbody>\n",
              "    <tr>\n",
              "      <th>Period</th>\n",
              "      <td>1.000000</td>\n",
              "      <td>-0.004279</td>\n",
              "    </tr>\n",
              "    <tr>\n",
              "      <th>First Tooltip</th>\n",
              "      <td>-0.004279</td>\n",
              "      <td>1.000000</td>\n",
              "    </tr>\n",
              "  </tbody>\n",
              "</table>\n",
              "</div>"
            ],
            "text/plain": [
              "                 Period  First Tooltip\n",
              "Period         1.000000      -0.004279\n",
              "First Tooltip -0.004279       1.000000"
            ]
          },
          "metadata": {
            "tags": []
          },
          "execution_count": 11
        }
      ]
    },
    {
      "cell_type": "code",
      "metadata": {
        "id": "RYVwKe_Ic461"
      },
      "source": [
        "subabuse_jisatsu = pd.concat([subabuse, jisatsu])"
      ],
      "execution_count": 12,
      "outputs": []
    },
    {
      "cell_type": "code",
      "metadata": {
        "id": "IOMSiFul6pej",
        "colab": {
          "base_uri": "https://localhost:8080/",
          "height": 107
        },
        "outputId": "e8c449c0-36bc-4491-e7e3-e1f258e56b0c"
      },
      "source": [
        "subabuse_jisatsu.corr(method='pearson')"
      ],
      "execution_count": 13,
      "outputs": [
        {
          "output_type": "execute_result",
          "data": {
            "text/html": [
              "<div>\n",
              "<style scoped>\n",
              "    .dataframe tbody tr th:only-of-type {\n",
              "        vertical-align: middle;\n",
              "    }\n",
              "\n",
              "    .dataframe tbody tr th {\n",
              "        vertical-align: top;\n",
              "    }\n",
              "\n",
              "    .dataframe thead th {\n",
              "        text-align: right;\n",
              "    }\n",
              "</style>\n",
              "<table border=\"1\" class=\"dataframe\">\n",
              "  <thead>\n",
              "    <tr style=\"text-align: right;\">\n",
              "      <th></th>\n",
              "      <th>Period</th>\n",
              "      <th>First Tooltip</th>\n",
              "    </tr>\n",
              "  </thead>\n",
              "  <tbody>\n",
              "    <tr>\n",
              "      <th>Period</th>\n",
              "      <td>1.000000</td>\n",
              "      <td>-0.169316</td>\n",
              "    </tr>\n",
              "    <tr>\n",
              "      <th>First Tooltip</th>\n",
              "      <td>-0.169316</td>\n",
              "      <td>1.000000</td>\n",
              "    </tr>\n",
              "  </tbody>\n",
              "</table>\n",
              "</div>"
            ],
            "text/plain": [
              "                 Period  First Tooltip\n",
              "Period         1.000000      -0.169316\n",
              "First Tooltip -0.169316       1.000000"
            ]
          },
          "metadata": {
            "tags": []
          },
          "execution_count": 13
        }
      ]
    },
    {
      "cell_type": "code",
      "metadata": {
        "id": "TDR30uK66v4Z",
        "colab": {
          "base_uri": "https://localhost:8080/",
          "height": 107
        },
        "outputId": "226d7cf7-ecb3-411c-fafa-604c397673f8"
      },
      "source": [
        "subabuse_jisatsu.corr(method='kendall')"
      ],
      "execution_count": 14,
      "outputs": [
        {
          "output_type": "execute_result",
          "data": {
            "text/html": [
              "<div>\n",
              "<style scoped>\n",
              "    .dataframe tbody tr th:only-of-type {\n",
              "        vertical-align: middle;\n",
              "    }\n",
              "\n",
              "    .dataframe tbody tr th {\n",
              "        vertical-align: top;\n",
              "    }\n",
              "\n",
              "    .dataframe thead th {\n",
              "        text-align: right;\n",
              "    }\n",
              "</style>\n",
              "<table border=\"1\" class=\"dataframe\">\n",
              "  <thead>\n",
              "    <tr style=\"text-align: right;\">\n",
              "      <th></th>\n",
              "      <th>Period</th>\n",
              "      <th>First Tooltip</th>\n",
              "    </tr>\n",
              "  </thead>\n",
              "  <tbody>\n",
              "    <tr>\n",
              "      <th>Period</th>\n",
              "      <td>1.000000</td>\n",
              "      <td>-0.190378</td>\n",
              "    </tr>\n",
              "    <tr>\n",
              "      <th>First Tooltip</th>\n",
              "      <td>-0.190378</td>\n",
              "      <td>1.000000</td>\n",
              "    </tr>\n",
              "  </tbody>\n",
              "</table>\n",
              "</div>"
            ],
            "text/plain": [
              "                 Period  First Tooltip\n",
              "Period         1.000000      -0.190378\n",
              "First Tooltip -0.190378       1.000000"
            ]
          },
          "metadata": {
            "tags": []
          },
          "execution_count": 14
        }
      ]
    },
    {
      "cell_type": "code",
      "metadata": {
        "id": "Z3f6m_MCQtNJ"
      },
      "source": [
        "subabuse_jisatsu_df = pd.DataFrame(data=subabuse_jisatsu)"
      ],
      "execution_count": 15,
      "outputs": []
    },
    {
      "cell_type": "markdown",
      "metadata": {
        "id": "yWlpSHAZzrRR"
      },
      "source": [
        "After a few different methds of analysis, I see that there is no collinearity between the different datasets within my WHO collection of csv files but the integrity of the data is in question."
      ]
    }
  ]
}